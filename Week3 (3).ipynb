{
 "cells": [
  {
   "cell_type": "code",
   "execution_count": 68,
   "metadata": {},
   "outputs": [
    {
     "name": "stdout",
     "output_type": "stream",
     "text": [
      "        id  gender  age   gpa     sat  section  final  project\n",
      "17  667689       1   26  3.36  1111.0      3.0     60       67\n",
      "18  658905       1   25  3.47  1152.0      4.0     71       79\n",
      "20  670432       1   23  3.34  1130.0      1.0     82       87\n",
      "22  660608       1   27  3.10  1104.0      3.0     56       60\n",
      "23  653457       1   28  3.38  1355.0      3.0     69       76\n",
      "24  675282       1   29  3.09  1090.0      5.0     78       89\n",
      "25  638785       1   23  3.59  1250.0      1.0     97       99\n",
      "27  641697       1   28  3.02  1070.0      5.0     46       52\n",
      "28  686836       1   28  3.45  1306.0      5.0     86       79\n",
      "29  654301       1   30  3.49     3.0      2.0     92       92\n",
      "30  615986       1   30  3.54  1350.0      5.0     91       87\n",
      "0   618027       2   27  2.59   700.0      3.0     75       69\n",
      "1   691694       2   33  3.49   950.0      4.0     89       81\n",
      "2   661363       2   31  3.78  1172.0      5.0     75       86\n",
      "4   624861       2   27  3.47  1099.0      3.0     89       94\n",
      "5   673174       2   32  3.36  1115.0      5.0     87       89\n",
      "6   681530       2   26  3.14  1039.0      3.0     94       97\n",
      "7   631316       2   27  2.80   720.0      3.0     81       91\n",
      "9   664779       2   25  3.49  1195.0      5.0     89       80\n",
      "11  642612       2   24  3.72  1308.0      5.0     87       79\n",
      "12  654740       2   30  3.08   850.0      4.0     96       97\n",
      "13  614150       2   26  3.90  1440.0      4.0     97       90\n",
      "14  610145       2   30  3.33  1195.0      5.0     89       92\n",
      "15  611050       2   26  1.78   500.0      1.0     53       56\n"
     ]
    }
   ],
   "source": [
    "##Data Cleaning Section\n",
    "\n",
    "#Import necessary packages\n",
    "import pandas as pd\n",
    "import numpy as np\n",
    "import matplotlib.pyplot as plt\n",
    "from sklearn.cluster import KMeans\n",
    "\n",
    "#Import assignment dataset as pandas dataframe, named studentdf\n",
    "studentdf = pd.read_csv(\"StudentData2.csv\")\n",
    "\n",
    "#Create new column with length of id column, filter where id length is 6, and create new student df\n",
    "#Drop IDNEW column after filtering\n",
    "studentdf['IDNEW'] = studentdf['id'].map(str).apply(len)\n",
    "studentdf = studentdf[studentdf.IDNEW == 6]\n",
    "studentdf = studentdf.drop(columns = ['IDNEW'])\n",
    "\n",
    "#Filter where gender column does not equal 1 or 2 and append\n",
    "studentdf1 = studentdf[studentdf['gender'] == 1]\n",
    "studentdf2 = studentdf[studentdf['gender'] == 2]\n",
    "studentdf = studentdf1.append(studentdf2)\n",
    "\n",
    "#Filter age, gpa, sat, final columns, and drop NaN rows\n",
    "studentdf = studentdf[(studentdf['age'] >= 18) & (studentdf['age'] <= 80)]\n",
    "studentdf = studentdf[(studentdf['gpa'] >= 0) & (studentdf['gpa'] <= 4.0)]\n",
    "studentdf = studentdf[(studentdf['sat'] >= 0) & (studentdf['sat'] <= 1600)]\n",
    "studentdf = studentdf[(studentdf['final'] >= 0) & (studentdf['final'] <= 100)]\n",
    "studentdf = studentdf.dropna()\n",
    "\n",
    "#Print and write cleaned dataset to OUTFILE.txt\n",
    "print(studentdf)\n",
    "np.savetxt('OUTFILE.txt', studentdf.values, fmt='%d', delimiter=\"\\t\", header=\"id\\gender\\age\\gpa\\sat\\section\\final\\project\")  "
   ]
  },
  {
   "cell_type": "code",
   "execution_count": 83,
   "metadata": {},
   "outputs": [
    {
     "data": {
      "image/png": "[encoded data removed]",
      "text/plain": [
       "<Figure size 432x288 with 1 Axes>"
      ]
     },
     "metadata": {
      "needs_background": "light"
     },
     "output_type": "display_data"
    }
   ],
   "source": [
    "##Skipping Question 5, moving to Question 6\n",
    "\n",
    "#Isolate final and project scores\n",
    "final = studentdf['final']\n",
    "project = studentdf['project']\n",
    "area = np.pi*3\n",
    "colors = (0,0,0)\n",
    "plt.scatter(final, project, s=area, c=colors, alpha=0.5)\n",
    "plt.title('Relationship between Final and Project Scores')\n",
    "plt.xlabel('Final Scores')\n",
    "plt.ylabel('Project Scores')\n",
    "plt.show()"
   ]
  }
 ],
 "metadata": {
  "kernelspec": {
   "display_name": "Python 3",
   "language": "python",
   "name": "python3"
  },
  "language_info": {
   "codemirror_mode": {
    "name": "ipython",
    "version": 3
   },
   "file_extension": ".py",
   "mimetype": "text/x-python",
   "name": "python",
   "nbconvert_exporter": "python",
   "pygments_lexer": "ipython3",
   "version": "3.7.2"
  }
 },
 "nbformat": 4,
 "nbformat_minor": 2
}
